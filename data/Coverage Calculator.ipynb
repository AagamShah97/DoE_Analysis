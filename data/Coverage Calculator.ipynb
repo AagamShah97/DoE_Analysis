{
 "cells": [
  {
   "cell_type": "markdown",
   "metadata": {},
   "source": [
    "# Calculate Coverage of graphene\n",
    "\n",
    "For 500x, 53px = 10um \\\n",
    "For 1000x, 107px = 10um \\\n",
    "For 5000x, 53px = 1um \n",
    "\n",
    "All images are $1280px \\times 1024px$\n",
    "\n",
    "Image area for 1000x mag: 1.1448336099"
   ]
  },
  {
   "cell_type": "code",
   "execution_count": null,
   "metadata": {},
   "outputs": [],
   "source": [
    "from hublib.ui import FileUpload\n",
    "from PIL import Image\n",
    "import numpy as np\n",
    "import matplotlib.pyplot as plt\n",
    "import cv2"
   ]
  },
  {
   "cell_type": "code",
   "execution_count": null,
   "metadata": {},
   "outputs": [],
   "source": [
    "def average_coverage(imagelist):\n",
    "    coverage = 0\n",
    "    for imagep in imagelist:\n",
    "        img_in = Image.open(imagep)\n",
    "        data = np.asarray(img_in)\n",
    "        data = data/255\n",
    "        coverage = coverage + np.mean(data)\n",
    "    coverage = coverage/len(imagelist)\n",
    "    return coverage"
   ]
  },
  {
   "cell_type": "code",
   "execution_count": null,
   "metadata": {},
   "outputs": [],
   "source": [
    "def mycb(w,fnames):\n",
    "    global imagelist\n",
    "    imagelist=fnames\n",
    "    coverage = average_coverage(imagelist)\n",
    "    print(coverage)\n",
    "    w.reset()\n",
    "\n",
    "f = FileUpload(\"Please upload masked image of graphene\", \n",
    "               \"Please upload only standard image formats, such as PNG, JPG and TIF\",\n",
    "               cb=mycb,\n",
    "               maxsize=10000000,\n",
    "               maxnum=6)\n",
    "f # invoke the upload file button"
   ]
  },
  {
   "cell_type": "code",
   "execution_count": null,
   "metadata": {},
   "outputs": [],
   "source": []
  }
 ],
 "metadata": {
  "hide_input": false,
  "kernelspec": {
   "display_name": "Python 3",
   "language": "python",
   "name": "python3"
  },
  "language_info": {
   "codemirror_mode": {
    "name": "ipython",
    "version": 3
   },
   "file_extension": ".py",
   "mimetype": "text/x-python",
   "name": "python",
   "nbconvert_exporter": "python",
   "pygments_lexer": "ipython3",
   "version": "3.8.2"
  }
 },
 "nbformat": 4,
 "nbformat_minor": 4
}
